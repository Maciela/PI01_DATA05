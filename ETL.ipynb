{
 "cells": [
  {
   "cell_type": "markdown",
   "metadata": {},
   "source": [
    "**Ingesta y normalización de los datos**"
   ]
  },
  {
   "cell_type": "markdown",
   "metadata": {},
   "source": [
    "*Importamos las librerias*"
   ]
  },
  {
   "cell_type": "code",
   "execution_count": 2,
   "metadata": {},
   "outputs": [],
   "source": [
    "import pandas as pd\n",
    "import numpy as np\n"
   ]
  },
  {
   "cell_type": "markdown",
   "metadata": {},
   "source": [
    "*Ingestamos de archivos en formato csv y json*"
   ]
  },
  {
   "cell_type": "code",
   "execution_count": 3,
   "metadata": {},
   "outputs": [],
   "source": [
    "df_amazon = pd.read_csv(\"./Datasets/amazon_prime_titles.csv\")\n",
    "df_disney=pd.read_csv(\"./Datasets/disney_plus_titles.csv\")\n",
    "df_hulu= pd.read_csv(\"./Datasets/hulu_titles.csv\")\n",
    "df_netflix=pd.read_json(\"./Datasets/netflix_titles.json\")"
   ]
  },
  {
   "cell_type": "code",
   "execution_count": 4,
   "metadata": {},
   "outputs": [],
   "source": [
    "#Agragamos a cada dataframe una columna con el nombre de la plataforma a la que pertenece\n",
    "amazon=df_amazon.assign(Plataforma= \"Amazon\")\n",
    "disney=df_disney.assign(Plataforma= \"Disney\")\n",
    "hulu=df_hulu.assign(Plataforma= \"Hulu\")\n",
    "netflix=df_netflix.assign(Plataforma= \"Netflix\")\n"
   ]
  },
  {
   "cell_type": "markdown",
   "metadata": {},
   "source": [
    "*Creamos las funciones que utilizaremos a lo largo del proceso*"
   ]
  },
  {
   "cell_type": "code",
   "execution_count": 103,
   "metadata": {},
   "outputs": [],
   "source": [
    "#Función para crear un dataframe que contenga los datasets ingestados anteriormente.\n",
    "def concat(lista_dataframe):\n",
    "    if type(lista_dataframe)== list: \n",
    "        df_concatenado=pd.concat(lista_dataframe)\n",
    "        return df_concatenado\n",
    "        \n",
    "#Función para detirminar la cantidad de nulos de un dataframe o una columna de este.\n",
    "def cant_null(dataframe):\n",
    "    return dataframe.isna().sum()"
   ]
  },
  {
   "cell_type": "code",
   "execution_count": 6,
   "metadata": {},
   "outputs": [],
   "source": [
    "#Instancio el dataframe al cual se le realizará el proceso de ETL\n",
    "df=concat([amazon,disney,hulu,netflix])"
   ]
  },
  {
   "cell_type": "markdown",
   "metadata": {},
   "source": [
    "*Estudiamos el tipo de dato de cada columna*"
   ]
  },
  {
   "cell_type": "code",
   "execution_count": 7,
   "metadata": {},
   "outputs": [
    {
     "name": "stdout",
     "output_type": "stream",
     "text": [
      "<class 'pandas.core.frame.DataFrame'>\n",
      "Int64Index: 22998 entries, 0 to 8806\n",
      "Data columns (total 13 columns):\n",
      " #   Column        Non-Null Count  Dtype \n",
      "---  ------        --------------  ----- \n",
      " 0   show_id       22998 non-null  object\n",
      " 1   type          22998 non-null  object\n",
      " 2   title         22998 non-null  object\n",
      " 3   director      14739 non-null  object\n",
      " 4   cast          17677 non-null  object\n",
      " 5   country       11499 non-null  object\n",
      " 6   date_added    13444 non-null  object\n",
      " 7   release_year  22998 non-null  int64 \n",
      " 8   rating        22134 non-null  object\n",
      " 9   duration      22516 non-null  object\n",
      " 10  listed_in     22998 non-null  object\n",
      " 11  description   22994 non-null  object\n",
      " 12  Plataforma    22998 non-null  object\n",
      "dtypes: int64(1), object(12)\n",
      "memory usage: 2.5+ MB\n"
     ]
    }
   ],
   "source": [
    "df.info()"
   ]
  },
  {
   "cell_type": "markdown",
   "metadata": {},
   "source": [
    "*Creamos una columna que indica el indice del dataframe concatenado(df)*"
   ]
  },
  {
   "cell_type": "code",
   "execution_count": 8,
   "metadata": {},
   "outputs": [
    {
     "data": {
      "text/html": [
       "<div>\n",
       "<style scoped>\n",
       "    .dataframe tbody tr th:only-of-type {\n",
       "        vertical-align: middle;\n",
       "    }\n",
       "\n",
       "    .dataframe tbody tr th {\n",
       "        vertical-align: top;\n",
       "    }\n",
       "\n",
       "    .dataframe thead th {\n",
       "        text-align: right;\n",
       "    }\n",
       "</style>\n",
       "<table border=\"1\" class=\"dataframe\">\n",
       "  <thead>\n",
       "    <tr style=\"text-align: right;\">\n",
       "      <th></th>\n",
       "      <th>index</th>\n",
       "      <th>show_id</th>\n",
       "      <th>type</th>\n",
       "      <th>title</th>\n",
       "      <th>director</th>\n",
       "      <th>cast</th>\n",
       "      <th>country</th>\n",
       "      <th>date_added</th>\n",
       "      <th>release_year</th>\n",
       "      <th>rating</th>\n",
       "      <th>duration</th>\n",
       "      <th>listed_in</th>\n",
       "      <th>description</th>\n",
       "      <th>Plataforma</th>\n",
       "    </tr>\n",
       "  </thead>\n",
       "  <tbody>\n",
       "    <tr>\n",
       "      <th>0</th>\n",
       "      <td>0</td>\n",
       "      <td>s1</td>\n",
       "      <td>Movie</td>\n",
       "      <td>The Grand Seduction</td>\n",
       "      <td>Don McKellar</td>\n",
       "      <td>Brendan Gleeson, Taylor Kitsch, Gordon Pinsent</td>\n",
       "      <td>Canada</td>\n",
       "      <td>March 30, 2021</td>\n",
       "      <td>2014</td>\n",
       "      <td>NaN</td>\n",
       "      <td>113 min</td>\n",
       "      <td>Comedy, Drama</td>\n",
       "      <td>A small fishing village must procure a local d...</td>\n",
       "      <td>Amazon</td>\n",
       "    </tr>\n",
       "    <tr>\n",
       "      <th>1</th>\n",
       "      <td>1</td>\n",
       "      <td>s2</td>\n",
       "      <td>Movie</td>\n",
       "      <td>Take Care Good Night</td>\n",
       "      <td>Girish Joshi</td>\n",
       "      <td>Mahesh Manjrekar, Abhay Mahajan, Sachin Khedekar</td>\n",
       "      <td>India</td>\n",
       "      <td>March 30, 2021</td>\n",
       "      <td>2018</td>\n",
       "      <td>13+</td>\n",
       "      <td>110 min</td>\n",
       "      <td>Drama, International</td>\n",
       "      <td>A Metro Family decides to fight a Cyber Crimin...</td>\n",
       "      <td>Amazon</td>\n",
       "    </tr>\n",
       "    <tr>\n",
       "      <th>2</th>\n",
       "      <td>2</td>\n",
       "      <td>s3</td>\n",
       "      <td>Movie</td>\n",
       "      <td>Secrets of Deception</td>\n",
       "      <td>Josh Webber</td>\n",
       "      <td>Tom Sizemore, Lorenzo Lamas, Robert LaSardo, R...</td>\n",
       "      <td>United States</td>\n",
       "      <td>March 30, 2021</td>\n",
       "      <td>2017</td>\n",
       "      <td>NaN</td>\n",
       "      <td>74 min</td>\n",
       "      <td>Action, Drama, Suspense</td>\n",
       "      <td>After a man discovers his wife is cheating on ...</td>\n",
       "      <td>Amazon</td>\n",
       "    </tr>\n",
       "    <tr>\n",
       "      <th>3</th>\n",
       "      <td>3</td>\n",
       "      <td>s4</td>\n",
       "      <td>Movie</td>\n",
       "      <td>Pink: Staying True</td>\n",
       "      <td>Sonia Anderson</td>\n",
       "      <td>Interviews with: Pink, Adele, Beyoncé, Britney...</td>\n",
       "      <td>United States</td>\n",
       "      <td>March 30, 2021</td>\n",
       "      <td>2014</td>\n",
       "      <td>NaN</td>\n",
       "      <td>69 min</td>\n",
       "      <td>Documentary</td>\n",
       "      <td>Pink breaks the mold once again, bringing her ...</td>\n",
       "      <td>Amazon</td>\n",
       "    </tr>\n",
       "    <tr>\n",
       "      <th>4</th>\n",
       "      <td>4</td>\n",
       "      <td>s5</td>\n",
       "      <td>Movie</td>\n",
       "      <td>Monster Maker</td>\n",
       "      <td>Giles Foster</td>\n",
       "      <td>Harry Dean Stanton, Kieran O'Brien, George Cos...</td>\n",
       "      <td>United Kingdom</td>\n",
       "      <td>March 30, 2021</td>\n",
       "      <td>1989</td>\n",
       "      <td>NaN</td>\n",
       "      <td>45 min</td>\n",
       "      <td>Drama, Fantasy</td>\n",
       "      <td>Teenage Matt Banting wants to work with a famo...</td>\n",
       "      <td>Amazon</td>\n",
       "    </tr>\n",
       "    <tr>\n",
       "      <th>...</th>\n",
       "      <td>...</td>\n",
       "      <td>...</td>\n",
       "      <td>...</td>\n",
       "      <td>...</td>\n",
       "      <td>...</td>\n",
       "      <td>...</td>\n",
       "      <td>...</td>\n",
       "      <td>...</td>\n",
       "      <td>...</td>\n",
       "      <td>...</td>\n",
       "      <td>...</td>\n",
       "      <td>...</td>\n",
       "      <td>...</td>\n",
       "      <td>...</td>\n",
       "    </tr>\n",
       "    <tr>\n",
       "      <th>22993</th>\n",
       "      <td>8802</td>\n",
       "      <td>s8803</td>\n",
       "      <td>Movie</td>\n",
       "      <td>Zodiac</td>\n",
       "      <td>David Fincher</td>\n",
       "      <td>Mark Ruffalo, Jake Gyllenhaal, Robert Downey J...</td>\n",
       "      <td>United States</td>\n",
       "      <td>November 20, 2019</td>\n",
       "      <td>2007</td>\n",
       "      <td>R</td>\n",
       "      <td>158 min</td>\n",
       "      <td>Cult Movies, Dramas, Thrillers</td>\n",
       "      <td>A political cartoonist, a crime reporter and a...</td>\n",
       "      <td>Netflix</td>\n",
       "    </tr>\n",
       "    <tr>\n",
       "      <th>22994</th>\n",
       "      <td>8803</td>\n",
       "      <td>s8804</td>\n",
       "      <td>TV Show</td>\n",
       "      <td>Zombie Dumb</td>\n",
       "      <td>None</td>\n",
       "      <td>None</td>\n",
       "      <td>None</td>\n",
       "      <td>July 1, 2019</td>\n",
       "      <td>2018</td>\n",
       "      <td>TV-Y7</td>\n",
       "      <td>2 Seasons</td>\n",
       "      <td>Kids' TV, Korean TV Shows, TV Comedies</td>\n",
       "      <td>While living alone in a spooky town, a young g...</td>\n",
       "      <td>Netflix</td>\n",
       "    </tr>\n",
       "    <tr>\n",
       "      <th>22995</th>\n",
       "      <td>8804</td>\n",
       "      <td>s8805</td>\n",
       "      <td>Movie</td>\n",
       "      <td>Zombieland</td>\n",
       "      <td>Ruben Fleischer</td>\n",
       "      <td>Jesse Eisenberg, Woody Harrelson, Emma Stone, ...</td>\n",
       "      <td>United States</td>\n",
       "      <td>November 1, 2019</td>\n",
       "      <td>2009</td>\n",
       "      <td>R</td>\n",
       "      <td>88 min</td>\n",
       "      <td>Comedies, Horror Movies</td>\n",
       "      <td>Looking to survive in a world taken over by zo...</td>\n",
       "      <td>Netflix</td>\n",
       "    </tr>\n",
       "    <tr>\n",
       "      <th>22996</th>\n",
       "      <td>8805</td>\n",
       "      <td>s8806</td>\n",
       "      <td>Movie</td>\n",
       "      <td>Zoom</td>\n",
       "      <td>Peter Hewitt</td>\n",
       "      <td>Tim Allen, Courteney Cox, Chevy Chase, Kate Ma...</td>\n",
       "      <td>United States</td>\n",
       "      <td>January 11, 2020</td>\n",
       "      <td>2006</td>\n",
       "      <td>PG</td>\n",
       "      <td>88 min</td>\n",
       "      <td>Children &amp; Family Movies, Comedies</td>\n",
       "      <td>Dragged from civilian life, a former superhero...</td>\n",
       "      <td>Netflix</td>\n",
       "    </tr>\n",
       "    <tr>\n",
       "      <th>22997</th>\n",
       "      <td>8806</td>\n",
       "      <td>s8807</td>\n",
       "      <td>Movie</td>\n",
       "      <td>Zubaan</td>\n",
       "      <td>Mozez Singh</td>\n",
       "      <td>Vicky Kaushal, Sarah-Jane Dias, Raaghav Chanan...</td>\n",
       "      <td>India</td>\n",
       "      <td>March 2, 2019</td>\n",
       "      <td>2015</td>\n",
       "      <td>TV-14</td>\n",
       "      <td>111 min</td>\n",
       "      <td>Dramas, International Movies, Music &amp; Musicals</td>\n",
       "      <td>A scrappy but poor boy worms his way into a ty...</td>\n",
       "      <td>Netflix</td>\n",
       "    </tr>\n",
       "  </tbody>\n",
       "</table>\n",
       "<p>22998 rows × 14 columns</p>\n",
       "</div>"
      ],
      "text/plain": [
       "       index show_id     type                 title         director  \\\n",
       "0          0      s1    Movie   The Grand Seduction     Don McKellar   \n",
       "1          1      s2    Movie  Take Care Good Night     Girish Joshi   \n",
       "2          2      s3    Movie  Secrets of Deception      Josh Webber   \n",
       "3          3      s4    Movie    Pink: Staying True   Sonia Anderson   \n",
       "4          4      s5    Movie         Monster Maker     Giles Foster   \n",
       "...      ...     ...      ...                   ...              ...   \n",
       "22993   8802   s8803    Movie                Zodiac    David Fincher   \n",
       "22994   8803   s8804  TV Show           Zombie Dumb             None   \n",
       "22995   8804   s8805    Movie            Zombieland  Ruben Fleischer   \n",
       "22996   8805   s8806    Movie                  Zoom     Peter Hewitt   \n",
       "22997   8806   s8807    Movie                Zubaan      Mozez Singh   \n",
       "\n",
       "                                                    cast         country  \\\n",
       "0         Brendan Gleeson, Taylor Kitsch, Gordon Pinsent          Canada   \n",
       "1       Mahesh Manjrekar, Abhay Mahajan, Sachin Khedekar           India   \n",
       "2      Tom Sizemore, Lorenzo Lamas, Robert LaSardo, R...   United States   \n",
       "3      Interviews with: Pink, Adele, Beyoncé, Britney...   United States   \n",
       "4      Harry Dean Stanton, Kieran O'Brien, George Cos...  United Kingdom   \n",
       "...                                                  ...             ...   \n",
       "22993  Mark Ruffalo, Jake Gyllenhaal, Robert Downey J...   United States   \n",
       "22994                                               None            None   \n",
       "22995  Jesse Eisenberg, Woody Harrelson, Emma Stone, ...   United States   \n",
       "22996  Tim Allen, Courteney Cox, Chevy Chase, Kate Ma...   United States   \n",
       "22997  Vicky Kaushal, Sarah-Jane Dias, Raaghav Chanan...           India   \n",
       "\n",
       "              date_added  release_year rating   duration  \\\n",
       "0         March 30, 2021          2014    NaN    113 min   \n",
       "1         March 30, 2021          2018    13+    110 min   \n",
       "2         March 30, 2021          2017    NaN     74 min   \n",
       "3         March 30, 2021          2014    NaN     69 min   \n",
       "4         March 30, 2021          1989    NaN     45 min   \n",
       "...                  ...           ...    ...        ...   \n",
       "22993  November 20, 2019          2007      R    158 min   \n",
       "22994       July 1, 2019          2018  TV-Y7  2 Seasons   \n",
       "22995   November 1, 2019          2009      R     88 min   \n",
       "22996   January 11, 2020          2006     PG     88 min   \n",
       "22997      March 2, 2019          2015  TV-14    111 min   \n",
       "\n",
       "                                            listed_in  \\\n",
       "0                                       Comedy, Drama   \n",
       "1                                Drama, International   \n",
       "2                             Action, Drama, Suspense   \n",
       "3                                         Documentary   \n",
       "4                                      Drama, Fantasy   \n",
       "...                                               ...   \n",
       "22993                  Cult Movies, Dramas, Thrillers   \n",
       "22994          Kids' TV, Korean TV Shows, TV Comedies   \n",
       "22995                         Comedies, Horror Movies   \n",
       "22996              Children & Family Movies, Comedies   \n",
       "22997  Dramas, International Movies, Music & Musicals   \n",
       "\n",
       "                                             description Plataforma  \n",
       "0      A small fishing village must procure a local d...     Amazon  \n",
       "1      A Metro Family decides to fight a Cyber Crimin...     Amazon  \n",
       "2      After a man discovers his wife is cheating on ...     Amazon  \n",
       "3      Pink breaks the mold once again, bringing her ...     Amazon  \n",
       "4      Teenage Matt Banting wants to work with a famo...     Amazon  \n",
       "...                                                  ...        ...  \n",
       "22993  A political cartoonist, a crime reporter and a...    Netflix  \n",
       "22994  While living alone in a spooky town, a young g...    Netflix  \n",
       "22995  Looking to survive in a world taken over by zo...    Netflix  \n",
       "22996  Dragged from civilian life, a former superhero...    Netflix  \n",
       "22997  A scrappy but poor boy worms his way into a ty...    Netflix  \n",
       "\n",
       "[22998 rows x 14 columns]"
      ]
     },
     "execution_count": 8,
     "metadata": {},
     "output_type": "execute_result"
    }
   ],
   "source": [
    "df = df.rename_axis('index').reset_index()\n",
    "df"
   ]
  },
  {
   "cell_type": "markdown",
   "metadata": {},
   "source": [
    "*Separamos la columna \"duration\" , para crear las columnas 'time' y 'min_or_season'*"
   ]
  },
  {
   "cell_type": "code",
   "execution_count": 9,
   "metadata": {},
   "outputs": [
    {
     "data": {
      "text/html": [
       "<div>\n",
       "<style scoped>\n",
       "    .dataframe tbody tr th:only-of-type {\n",
       "        vertical-align: middle;\n",
       "    }\n",
       "\n",
       "    .dataframe tbody tr th {\n",
       "        vertical-align: top;\n",
       "    }\n",
       "\n",
       "    .dataframe thead th {\n",
       "        text-align: right;\n",
       "    }\n",
       "</style>\n",
       "<table border=\"1\" class=\"dataframe\">\n",
       "  <thead>\n",
       "    <tr style=\"text-align: right;\">\n",
       "      <th></th>\n",
       "      <th>index</th>\n",
       "      <th>show_id</th>\n",
       "      <th>type</th>\n",
       "      <th>title</th>\n",
       "      <th>director</th>\n",
       "      <th>cast</th>\n",
       "      <th>country</th>\n",
       "      <th>date_added</th>\n",
       "      <th>release_year</th>\n",
       "      <th>rating</th>\n",
       "      <th>duration</th>\n",
       "      <th>listed_in</th>\n",
       "      <th>description</th>\n",
       "      <th>Plataforma</th>\n",
       "      <th>time</th>\n",
       "      <th>min_or_season</th>\n",
       "    </tr>\n",
       "  </thead>\n",
       "  <tbody>\n",
       "    <tr>\n",
       "      <th>0</th>\n",
       "      <td>0</td>\n",
       "      <td>s1</td>\n",
       "      <td>Movie</td>\n",
       "      <td>The Grand Seduction</td>\n",
       "      <td>Don McKellar</td>\n",
       "      <td>Brendan Gleeson, Taylor Kitsch, Gordon Pinsent</td>\n",
       "      <td>Canada</td>\n",
       "      <td>March 30, 2021</td>\n",
       "      <td>2014</td>\n",
       "      <td>NaN</td>\n",
       "      <td>113 min</td>\n",
       "      <td>Comedy, Drama</td>\n",
       "      <td>A small fishing village must procure a local d...</td>\n",
       "      <td>Amazon</td>\n",
       "      <td>113</td>\n",
       "      <td>min</td>\n",
       "    </tr>\n",
       "    <tr>\n",
       "      <th>1</th>\n",
       "      <td>1</td>\n",
       "      <td>s2</td>\n",
       "      <td>Movie</td>\n",
       "      <td>Take Care Good Night</td>\n",
       "      <td>Girish Joshi</td>\n",
       "      <td>Mahesh Manjrekar, Abhay Mahajan, Sachin Khedekar</td>\n",
       "      <td>India</td>\n",
       "      <td>March 30, 2021</td>\n",
       "      <td>2018</td>\n",
       "      <td>13+</td>\n",
       "      <td>110 min</td>\n",
       "      <td>Drama, International</td>\n",
       "      <td>A Metro Family decides to fight a Cyber Crimin...</td>\n",
       "      <td>Amazon</td>\n",
       "      <td>110</td>\n",
       "      <td>min</td>\n",
       "    </tr>\n",
       "    <tr>\n",
       "      <th>2</th>\n",
       "      <td>2</td>\n",
       "      <td>s3</td>\n",
       "      <td>Movie</td>\n",
       "      <td>Secrets of Deception</td>\n",
       "      <td>Josh Webber</td>\n",
       "      <td>Tom Sizemore, Lorenzo Lamas, Robert LaSardo, R...</td>\n",
       "      <td>United States</td>\n",
       "      <td>March 30, 2021</td>\n",
       "      <td>2017</td>\n",
       "      <td>NaN</td>\n",
       "      <td>74 min</td>\n",
       "      <td>Action, Drama, Suspense</td>\n",
       "      <td>After a man discovers his wife is cheating on ...</td>\n",
       "      <td>Amazon</td>\n",
       "      <td>74</td>\n",
       "      <td>min</td>\n",
       "    </tr>\n",
       "    <tr>\n",
       "      <th>3</th>\n",
       "      <td>3</td>\n",
       "      <td>s4</td>\n",
       "      <td>Movie</td>\n",
       "      <td>Pink: Staying True</td>\n",
       "      <td>Sonia Anderson</td>\n",
       "      <td>Interviews with: Pink, Adele, Beyoncé, Britney...</td>\n",
       "      <td>United States</td>\n",
       "      <td>March 30, 2021</td>\n",
       "      <td>2014</td>\n",
       "      <td>NaN</td>\n",
       "      <td>69 min</td>\n",
       "      <td>Documentary</td>\n",
       "      <td>Pink breaks the mold once again, bringing her ...</td>\n",
       "      <td>Amazon</td>\n",
       "      <td>69</td>\n",
       "      <td>min</td>\n",
       "    </tr>\n",
       "    <tr>\n",
       "      <th>4</th>\n",
       "      <td>4</td>\n",
       "      <td>s5</td>\n",
       "      <td>Movie</td>\n",
       "      <td>Monster Maker</td>\n",
       "      <td>Giles Foster</td>\n",
       "      <td>Harry Dean Stanton, Kieran O'Brien, George Cos...</td>\n",
       "      <td>United Kingdom</td>\n",
       "      <td>March 30, 2021</td>\n",
       "      <td>1989</td>\n",
       "      <td>NaN</td>\n",
       "      <td>45 min</td>\n",
       "      <td>Drama, Fantasy</td>\n",
       "      <td>Teenage Matt Banting wants to work with a famo...</td>\n",
       "      <td>Amazon</td>\n",
       "      <td>45</td>\n",
       "      <td>min</td>\n",
       "    </tr>\n",
       "    <tr>\n",
       "      <th>...</th>\n",
       "      <td>...</td>\n",
       "      <td>...</td>\n",
       "      <td>...</td>\n",
       "      <td>...</td>\n",
       "      <td>...</td>\n",
       "      <td>...</td>\n",
       "      <td>...</td>\n",
       "      <td>...</td>\n",
       "      <td>...</td>\n",
       "      <td>...</td>\n",
       "      <td>...</td>\n",
       "      <td>...</td>\n",
       "      <td>...</td>\n",
       "      <td>...</td>\n",
       "      <td>...</td>\n",
       "      <td>...</td>\n",
       "    </tr>\n",
       "    <tr>\n",
       "      <th>22993</th>\n",
       "      <td>8802</td>\n",
       "      <td>s8803</td>\n",
       "      <td>Movie</td>\n",
       "      <td>Zodiac</td>\n",
       "      <td>David Fincher</td>\n",
       "      <td>Mark Ruffalo, Jake Gyllenhaal, Robert Downey J...</td>\n",
       "      <td>United States</td>\n",
       "      <td>November 20, 2019</td>\n",
       "      <td>2007</td>\n",
       "      <td>R</td>\n",
       "      <td>158 min</td>\n",
       "      <td>Cult Movies, Dramas, Thrillers</td>\n",
       "      <td>A political cartoonist, a crime reporter and a...</td>\n",
       "      <td>Netflix</td>\n",
       "      <td>158</td>\n",
       "      <td>min</td>\n",
       "    </tr>\n",
       "    <tr>\n",
       "      <th>22994</th>\n",
       "      <td>8803</td>\n",
       "      <td>s8804</td>\n",
       "      <td>TV Show</td>\n",
       "      <td>Zombie Dumb</td>\n",
       "      <td>None</td>\n",
       "      <td>None</td>\n",
       "      <td>None</td>\n",
       "      <td>July 1, 2019</td>\n",
       "      <td>2018</td>\n",
       "      <td>TV-Y7</td>\n",
       "      <td>2 Seasons</td>\n",
       "      <td>Kids' TV, Korean TV Shows, TV Comedies</td>\n",
       "      <td>While living alone in a spooky town, a young g...</td>\n",
       "      <td>Netflix</td>\n",
       "      <td>2</td>\n",
       "      <td>Seasons</td>\n",
       "    </tr>\n",
       "    <tr>\n",
       "      <th>22995</th>\n",
       "      <td>8804</td>\n",
       "      <td>s8805</td>\n",
       "      <td>Movie</td>\n",
       "      <td>Zombieland</td>\n",
       "      <td>Ruben Fleischer</td>\n",
       "      <td>Jesse Eisenberg, Woody Harrelson, Emma Stone, ...</td>\n",
       "      <td>United States</td>\n",
       "      <td>November 1, 2019</td>\n",
       "      <td>2009</td>\n",
       "      <td>R</td>\n",
       "      <td>88 min</td>\n",
       "      <td>Comedies, Horror Movies</td>\n",
       "      <td>Looking to survive in a world taken over by zo...</td>\n",
       "      <td>Netflix</td>\n",
       "      <td>88</td>\n",
       "      <td>min</td>\n",
       "    </tr>\n",
       "    <tr>\n",
       "      <th>22996</th>\n",
       "      <td>8805</td>\n",
       "      <td>s8806</td>\n",
       "      <td>Movie</td>\n",
       "      <td>Zoom</td>\n",
       "      <td>Peter Hewitt</td>\n",
       "      <td>Tim Allen, Courteney Cox, Chevy Chase, Kate Ma...</td>\n",
       "      <td>United States</td>\n",
       "      <td>January 11, 2020</td>\n",
       "      <td>2006</td>\n",
       "      <td>PG</td>\n",
       "      <td>88 min</td>\n",
       "      <td>Children &amp; Family Movies, Comedies</td>\n",
       "      <td>Dragged from civilian life, a former superhero...</td>\n",
       "      <td>Netflix</td>\n",
       "      <td>88</td>\n",
       "      <td>min</td>\n",
       "    </tr>\n",
       "    <tr>\n",
       "      <th>22997</th>\n",
       "      <td>8806</td>\n",
       "      <td>s8807</td>\n",
       "      <td>Movie</td>\n",
       "      <td>Zubaan</td>\n",
       "      <td>Mozez Singh</td>\n",
       "      <td>Vicky Kaushal, Sarah-Jane Dias, Raaghav Chanan...</td>\n",
       "      <td>India</td>\n",
       "      <td>March 2, 2019</td>\n",
       "      <td>2015</td>\n",
       "      <td>TV-14</td>\n",
       "      <td>111 min</td>\n",
       "      <td>Dramas, International Movies, Music &amp; Musicals</td>\n",
       "      <td>A scrappy but poor boy worms his way into a ty...</td>\n",
       "      <td>Netflix</td>\n",
       "      <td>111</td>\n",
       "      <td>min</td>\n",
       "    </tr>\n",
       "  </tbody>\n",
       "</table>\n",
       "<p>22998 rows × 16 columns</p>\n",
       "</div>"
      ],
      "text/plain": [
       "       index show_id     type                 title         director  \\\n",
       "0          0      s1    Movie   The Grand Seduction     Don McKellar   \n",
       "1          1      s2    Movie  Take Care Good Night     Girish Joshi   \n",
       "2          2      s3    Movie  Secrets of Deception      Josh Webber   \n",
       "3          3      s4    Movie    Pink: Staying True   Sonia Anderson   \n",
       "4          4      s5    Movie         Monster Maker     Giles Foster   \n",
       "...      ...     ...      ...                   ...              ...   \n",
       "22993   8802   s8803    Movie                Zodiac    David Fincher   \n",
       "22994   8803   s8804  TV Show           Zombie Dumb             None   \n",
       "22995   8804   s8805    Movie            Zombieland  Ruben Fleischer   \n",
       "22996   8805   s8806    Movie                  Zoom     Peter Hewitt   \n",
       "22997   8806   s8807    Movie                Zubaan      Mozez Singh   \n",
       "\n",
       "                                                    cast         country  \\\n",
       "0         Brendan Gleeson, Taylor Kitsch, Gordon Pinsent          Canada   \n",
       "1       Mahesh Manjrekar, Abhay Mahajan, Sachin Khedekar           India   \n",
       "2      Tom Sizemore, Lorenzo Lamas, Robert LaSardo, R...   United States   \n",
       "3      Interviews with: Pink, Adele, Beyoncé, Britney...   United States   \n",
       "4      Harry Dean Stanton, Kieran O'Brien, George Cos...  United Kingdom   \n",
       "...                                                  ...             ...   \n",
       "22993  Mark Ruffalo, Jake Gyllenhaal, Robert Downey J...   United States   \n",
       "22994                                               None            None   \n",
       "22995  Jesse Eisenberg, Woody Harrelson, Emma Stone, ...   United States   \n",
       "22996  Tim Allen, Courteney Cox, Chevy Chase, Kate Ma...   United States   \n",
       "22997  Vicky Kaushal, Sarah-Jane Dias, Raaghav Chanan...           India   \n",
       "\n",
       "              date_added  release_year rating   duration  \\\n",
       "0         March 30, 2021          2014    NaN    113 min   \n",
       "1         March 30, 2021          2018    13+    110 min   \n",
       "2         March 30, 2021          2017    NaN     74 min   \n",
       "3         March 30, 2021          2014    NaN     69 min   \n",
       "4         March 30, 2021          1989    NaN     45 min   \n",
       "...                  ...           ...    ...        ...   \n",
       "22993  November 20, 2019          2007      R    158 min   \n",
       "22994       July 1, 2019          2018  TV-Y7  2 Seasons   \n",
       "22995   November 1, 2019          2009      R     88 min   \n",
       "22996   January 11, 2020          2006     PG     88 min   \n",
       "22997      March 2, 2019          2015  TV-14    111 min   \n",
       "\n",
       "                                            listed_in  \\\n",
       "0                                       Comedy, Drama   \n",
       "1                                Drama, International   \n",
       "2                             Action, Drama, Suspense   \n",
       "3                                         Documentary   \n",
       "4                                      Drama, Fantasy   \n",
       "...                                               ...   \n",
       "22993                  Cult Movies, Dramas, Thrillers   \n",
       "22994          Kids' TV, Korean TV Shows, TV Comedies   \n",
       "22995                         Comedies, Horror Movies   \n",
       "22996              Children & Family Movies, Comedies   \n",
       "22997  Dramas, International Movies, Music & Musicals   \n",
       "\n",
       "                                             description Plataforma time  \\\n",
       "0      A small fishing village must procure a local d...     Amazon  113   \n",
       "1      A Metro Family decides to fight a Cyber Crimin...     Amazon  110   \n",
       "2      After a man discovers his wife is cheating on ...     Amazon   74   \n",
       "3      Pink breaks the mold once again, bringing her ...     Amazon   69   \n",
       "4      Teenage Matt Banting wants to work with a famo...     Amazon   45   \n",
       "...                                                  ...        ...  ...   \n",
       "22993  A political cartoonist, a crime reporter and a...    Netflix  158   \n",
       "22994  While living alone in a spooky town, a young g...    Netflix    2   \n",
       "22995  Looking to survive in a world taken over by zo...    Netflix   88   \n",
       "22996  Dragged from civilian life, a former superhero...    Netflix   88   \n",
       "22997  A scrappy but poor boy worms his way into a ty...    Netflix  111   \n",
       "\n",
       "      min_or_season  \n",
       "0               min  \n",
       "1               min  \n",
       "2               min  \n",
       "3               min  \n",
       "4               min  \n",
       "...             ...  \n",
       "22993           min  \n",
       "22994       Seasons  \n",
       "22995           min  \n",
       "22996           min  \n",
       "22997           min  \n",
       "\n",
       "[22998 rows x 16 columns]"
      ]
     },
     "execution_count": 9,
     "metadata": {},
     "output_type": "execute_result"
    }
   ],
   "source": [
    "duration = df[\"duration\"].str.split(expand=True)\n",
    "duration.columns = ['time', 'min_or_season']\n",
    "df= pd.concat([df, duration], axis=1)\n",
    "df"
   ]
  },
  {
   "cell_type": "markdown",
   "metadata": {},
   "source": [
    "*Convertimos la columna \"time\" a un tipo de dato entero*"
   ]
  },
  {
   "cell_type": "code",
   "execution_count": 10,
   "metadata": {},
   "outputs": [],
   "source": [
    "#Reempelzamos los NaN por cero (0)\n",
    "df['time']=df['time'].replace(np.nan, \"0\")"
   ]
  },
  {
   "cell_type": "code",
   "execution_count": 11,
   "metadata": {},
   "outputs": [],
   "source": [
    "df['time']=df['time'].astype(\"int64\")"
   ]
  },
  {
   "cell_type": "code",
   "execution_count": 12,
   "metadata": {},
   "outputs": [
    {
     "data": {
      "text/plain": [
       "0"
      ]
     },
     "execution_count": 12,
     "metadata": {},
     "output_type": "execute_result"
    }
   ],
   "source": [
    "cant_null(df['time'])"
   ]
  },
  {
   "cell_type": "markdown",
   "metadata": {},
   "source": [
    "*Normalización de la columna min/season*"
   ]
  },
  {
   "cell_type": "code",
   "execution_count": 13,
   "metadata": {},
   "outputs": [
    {
     "data": {
      "text/plain": [
       "min        15999\n",
       "Season      4183\n",
       "Seasons     2334\n",
       "Name: min_or_season, dtype: int64"
      ]
     },
     "execution_count": 13,
     "metadata": {},
     "output_type": "execute_result"
    }
   ],
   "source": [
    "df['min_or_season'].value_counts()"
   ]
  },
  {
   "cell_type": "code",
   "execution_count": 14,
   "metadata": {},
   "outputs": [],
   "source": [
    "#Reemplazamos \"Seasons\" por \"Season\" en la colummna min_or_season\n",
    "df[\"min_or_season\"].replace(\"Seasons\",\"Season\", inplace=True)"
   ]
  },
  {
   "cell_type": "code",
   "execution_count": 15,
   "metadata": {},
   "outputs": [
    {
     "data": {
      "text/plain": [
       "min       15999\n",
       "Season     6517\n",
       "Name: min_or_season, dtype: int64"
      ]
     },
     "execution_count": 15,
     "metadata": {},
     "output_type": "execute_result"
    }
   ],
   "source": [
    "df['min_or_season'].value_counts()\n"
   ]
  },
  {
   "cell_type": "markdown",
   "metadata": {},
   "source": [
    "*A continuación creamos la función para responder a la consulta:* Máxima duración según tipo de film (película/serie), por plataforma y por año: El request debe ser: get_max_duration(año, plataforma, [min o season])"
   ]
  },
  {
   "cell_type": "code",
   "execution_count": 119,
   "metadata": {},
   "outputs": [],
   "source": [
    "def get_max_duration(anio, plataforma, min_or_season):\n",
    "        df_rta=df[df['Plataforma'] == plataforma][df['release_year'] ==anio][df['min_or_season'] == min_or_season]\n",
    "        rta=df_rta.groupby(['Plataforma', 'min_or_season', 'release_year'])['time'].idxmax()\n",
    "        if min_or_season == \"min\":\n",
    "            titulo_pelicula=df[\"title\"].get(rta[0])\n",
    "            return {f'La pelicula de mayor duración es : {titulo_pelicula}'}\n",
    "        \n",
    "        elif min_or_season == \"Season\":\n",
    "            titulo_serie=df[\"title\"].get(rta[0])\n",
    "            return {f'La serie de mayor cantidad de temporadas es : {titulo_serie}'}\n",
    "        else:\n",
    "            return {'Los valores ingresados son incorrectos'}"
   ]
  },
  {
   "cell_type": "code",
   "execution_count": 120,
   "metadata": {},
   "outputs": [
    {
     "name": "stderr",
     "output_type": "stream",
     "text": [
      "<ipython-input-119-305b3edc46dd>:2: UserWarning: Boolean Series key will be reindexed to match DataFrame index.\n",
      "  df_rta=df[df['Plataforma'] == plataforma][df['release_year'] ==anio][df['min_or_season'] == min_or_season]\n"
     ]
    },
    {
     "data": {
      "text/plain": [
       "{'La pelicula de mayor duración es : The House That Jack Built'}"
      ]
     },
     "execution_count": 120,
     "metadata": {},
     "output_type": "execute_result"
    }
   ],
   "source": [
    "get_max_duration(2018,'Hulu',\"min\")"
   ]
  },
  {
   "cell_type": "markdown",
   "metadata": {},
   "source": [
    "*A continuación creamos la función para responder a la consulta*: Cantidad de películas y series (separadas) por plataforma El request debe ser: get_count_plataform(plataforma)"
   ]
  },
  {
   "cell_type": "code",
   "execution_count": 134,
   "metadata": {},
   "outputs": [],
   "source": [
    "def get_count_plataform(plataforma):\n",
    "    df_type_por_plataforma=df[df[\"Plataforma\"] == plataforma]\n",
    "    df_type= df_type_por_plataforma.groupby([\"type\"])[\"type\"].count()\n",
    "    return df_type.to_dict()"
   ]
  },
  {
   "cell_type": "code",
   "execution_count": 135,
   "metadata": {},
   "outputs": [
    {
     "data": {
      "text/plain": [
       "{'Movie': 6131, 'TV Show': 2676}"
      ]
     },
     "execution_count": 135,
     "metadata": {},
     "output_type": "execute_result"
    }
   ],
   "source": [
    "get_count_plataform(\"Netflix\")"
   ]
  },
  {
   "cell_type": "markdown",
   "metadata": {},
   "source": [
    "*A continuación creamos la función para responder a la siguiente consulta* : Cantidad de veces que se repite un género y plataforma con mayor frecuencia del mismo. El request debe ser: get_listedin('genero')"
   ]
  },
  {
   "cell_type": "code",
   "execution_count": 20,
   "metadata": {},
   "outputs": [],
   "source": [
    "def get_listedin(genero):\n",
    "    df1=df[df[\"listed_in\"].str.contains(f'{genero}')]\n",
    "    Rta=df1.groupby([\"Plataforma\"])[\"Plataforma\"].count()\n",
    "    nombre_plataforma=Rta.idxmax()\n",
    "    genero_repetido=Rta[0]\n",
    "    return f'La plataforma en la que más se repite el género {genero} es {nombre_plataforma} apareciendo {genero_repetido}'"
   ]
  },
  {
   "cell_type": "code",
   "execution_count": 21,
   "metadata": {},
   "outputs": [
    {
     "data": {
      "text/plain": [
       "'La plataforma en la que más se repite el género Comedy es Amazon apareciendo 2099'"
      ]
     },
     "execution_count": 21,
     "metadata": {},
     "output_type": "execute_result"
    }
   ],
   "source": [
    "get_listedin(\"Comedy\")"
   ]
  },
  {
   "cell_type": "markdown",
   "metadata": {},
   "source": [
    "*A continuación creamos la función para responder a la siguiente consulta* : Actor que más se repite según plataforma y año. El request debe ser: get_actor(plataforma, año)"
   ]
  },
  {
   "attachments": {},
   "cell_type": "markdown",
   "metadata": {},
   "source": [
    "*1º Definimos un dataframe ,al que llamamos \"prueba\", que contiene las columnas necesarias para la consulta.*\n"
   ]
  },
  {
   "cell_type": "code",
   "execution_count": 24,
   "metadata": {},
   "outputs": [],
   "source": [
    "prueba=pd.DataFrame({\"año\":df[\"release_year\"],\"plataforma\":df[\"Plataforma\"],\"actor\":df[\"cast\"]})"
   ]
  },
  {
   "cell_type": "code",
   "execution_count": null,
   "metadata": {},
   "outputs": [],
   "source": [
    "prueba"
   ]
  },
  {
   "attachments": {},
   "cell_type": "markdown",
   "metadata": {},
   "source": [
    "*2º Creamos un dataframe, al que llamamos \"df_final\", que con las siguientes columnas :*\n",
    "*<br> **actor** que contiene los nombres de cada actor,para esto se utilizó la información de la columna : prueba[\"actor\"],*\n",
    "*<br>además de las columnas **año** y **plataforma**, que se tomáron del dataframe prueba*"
   ]
  },
  {
   "cell_type": "code",
   "execution_count": null,
   "metadata": {},
   "outputs": [],
   "source": [
    "df_final=pd.DataFrame({\"año\":[],\"plataforma\":[],\"actor\":[]})\n",
    "for i in range(0,len(prueba)):\n",
    " \n",
    "    if type(prueba.loc[i][\"actor\"]) == str:\n",
    "        actores=prueba.loc[i][\"actor\"].split(\",\")\n",
    "        print(i)\n",
    "        for j in range(0,len(actores)):\n",
    "            nueva_fila = {\"año\":prueba.loc[i][\"año\"], \"plataforma\":prueba.loc[i][\"plataforma\"], \"actor\":actores[j]}\n",
    "            df_final=df_final.append(nueva_fila, ignore_index=True)\n",
    "df_final \n",
    "\n"
   ]
  },
  {
   "cell_type": "code",
   "execution_count": 58,
   "metadata": {},
   "outputs": [
    {
     "name": "stdout",
     "output_type": "stream",
     "text": [
      "<class 'pandas.core.frame.DataFrame'>\n",
      "RangeIndex: 114392 entries, 0 to 114391\n",
      "Data columns (total 3 columns):\n",
      " #   Column      Non-Null Count   Dtype  \n",
      "---  ------      --------------   -----  \n",
      " 0   año         114392 non-null  float64\n",
      " 1   plataforma  114392 non-null  object \n",
      " 2   actor       114392 non-null  object \n",
      "dtypes: float64(1), object(2)\n",
      "memory usage: 2.6+ MB\n"
     ]
    }
   ],
   "source": [
    "df_final.info()"
   ]
  },
  {
   "cell_type": "code",
   "execution_count": 59,
   "metadata": {},
   "outputs": [],
   "source": [
    "#Cambiamos el tipo de dato de la columna año:\n",
    "df_final['año']=df_final['año'].astype(\"int64\")"
   ]
  },
  {
   "cell_type": "code",
   "execution_count": null,
   "metadata": {},
   "outputs": [],
   "source": [
    "df_final.info()"
   ]
  },
  {
   "attachments": {},
   "cell_type": "markdown",
   "metadata": {},
   "source": [
    "*3º Finalmente definimos la función **get_actor(plataforma, anio)**:*"
   ]
  },
  {
   "cell_type": "code",
   "execution_count": 114,
   "metadata": {},
   "outputs": [],
   "source": [
    "def get_actor(plataforma, anio):\n",
    "    condicion=df_final[df_final[\"año\"]==anio][df_final[\"plataforma\"]==plataforma]\n",
    "    nombre_actor=condicion.groupby([\"actor\"])[\"actor\"].count().idxmax()\n",
    "    veces_repetido=condicion.groupby([\"actor\"])[\"actor\"].count().max()\n",
    "    return f'El/la actor/actriz que más se repite en la plataforma {plataforma}, en el año {anio}, es: {nombre_actor} apareciendo {veces_repetido} veces'\n",
    " "
   ]
  },
  {
   "cell_type": "code",
   "execution_count": 115,
   "metadata": {},
   "outputs": [
    {
     "name": "stderr",
     "output_type": "stream",
     "text": [
      "<ipython-input-114-fe84f3745086>:2: UserWarning: Boolean Series key will be reindexed to match DataFrame index.\n",
      "  condicion=df_final[df_final[\"año\"]==anio][df_final[\"plataforma\"]==plataforma]\n"
     ]
    },
    {
     "data": {
      "text/plain": [
       "'El/la actor/actriz que más se repite en la plataforma Netflix, en el año 2018, es:  Andrea Libman apareciendo 8 veces'"
      ]
     },
     "execution_count": 115,
     "metadata": {},
     "output_type": "execute_result"
    }
   ],
   "source": [
    "get_actor(\"Netflix\",2018)"
   ]
  },
  {
   "attachments": {},
   "cell_type": "markdown",
   "metadata": {},
   "source": [
    "*Tranformamos los dataframe \"df\" y \"df_final\" en archivos csv*"
   ]
  },
  {
   "cell_type": "code",
   "execution_count": 62,
   "metadata": {},
   "outputs": [],
   "source": [
    "df_final.to_csv('actores.csv')"
   ]
  },
  {
   "cell_type": "code",
   "execution_count": 101,
   "metadata": {},
   "outputs": [],
   "source": [
    "df.to_csv('tabla_consultas.csv')"
   ]
  },
  {
   "cell_type": "code",
   "execution_count": null,
   "metadata": {},
   "outputs": [],
   "source": []
  }
 ],
 "metadata": {
  "kernelspec": {
   "display_name": "Python 3.8.8 ('base')",
   "language": "python",
   "name": "python3"
  },
  "language_info": {
   "codemirror_mode": {
    "name": "ipython",
    "version": 3
   },
   "file_extension": ".py",
   "mimetype": "text/x-python",
   "name": "python",
   "nbconvert_exporter": "python",
   "pygments_lexer": "ipython3",
   "version": "3.8.8"
  },
  "orig_nbformat": 4,
  "vscode": {
   "interpreter": {
    "hash": "fb49de33f1253e0a00abba5075262790ec5e61c95159d231b0a71d643fd4591d"
   }
  }
 },
 "nbformat": 4,
 "nbformat_minor": 2
}
